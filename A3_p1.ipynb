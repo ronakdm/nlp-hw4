{
 "cells": [
  {
   "cell_type": "code",
   "execution_count": 34,
   "metadata": {},
   "outputs": [],
   "source": [
    "import numpy as np"
   ]
  },
  {
   "cell_type": "code",
   "execution_count": 29,
   "metadata": {},
   "outputs": [],
   "source": [
    "# Load up text as list of lists of string tokens.\n",
    "with open(\"15pctmasked.txt\") as f:\n",
    "    lines = f.readlines()\n",
    "    sentences = []\n",
    "    for line in lines:\n",
    "        sentences.append(line.split())"
   ]
  },
  {
   "cell_type": "code",
   "execution_count": 39,
   "metadata": {},
   "outputs": [],
   "source": [
    "# Load up bigram model as dict of dicts mapping to log probabilities, as well as vocabulary.\n",
    "with open(\"lm.txt\") as f:\n",
    "    model = {}\n",
    "    vocab = {}\n",
    "    index = 0\n",
    "    for line in f.readlines():\n",
    "        components = line.split()\n",
    "        model[components[0]] = {}\n",
    "        model[components[0]][components[1]] = np.log(float(components[2]))\n",
    "        if components[0] not in vocab:\n",
    "            vocab[components[0]] = index\n",
    "            index += 1\n",
    "            \n",
    "    # Fill out unseen words.\n",
    "    for key1 in model:\n",
    "        for key2 in vocab:\n",
    "            if key2 not in model[key1]:\n",
    "                model[key1][key2] = -np.inf"
   ]
  },
  {
   "cell_type": "code",
   "execution_count": 41,
   "metadata": {},
   "outputs": [],
   "source": [
    "MASK = \"<mask>\"\n",
    "START = \"<start>\""
   ]
  },
  {
   "cell_type": "code",
   "execution_count": 49,
   "metadata": {},
   "outputs": [],
   "source": [
    "def decode(sentence, model, vocab):\n",
    "    \"\"\"\n",
    "    Decode '<mask>' tokens using Viterbi algorithm.\n",
    "    \"\"\"\n",
    "    seq_len = len(sentence)\n",
    "    decoded = []\n",
    "    viterbi = np.zeros((len(vocab), seq_len - 1))\n",
    "    \n",
    "    # Set score functions s[index, word2, word2] based on masked and unmasked sentences.\n",
    "    \n",
    "    # Set first Viterbi variables.\n",
    "    for k, key in enumerate(vocab):\n",
    "        # If the word is masked, we fill in probabilities, otherwise 0 for the unmasked word and -infty otherwise.\n",
    "        if sentence[1] == MASK:\n",
    "            viterbi[k, 0] = model[START][key]\n",
    "        else:\n",
    "            viterbi[k, 0] = 0 if key == sentence[1] else -np.inf\n",
    "        \n",
    "    # Forward pass.\n",
    "    for i in range(1, seq_len - 1):\n",
    "        for k, key in enumerate(vocab):\n",
    "            # If the word is masked, we fill in probabilities, otherwise 0 for the unmasked word and -infty otherwise.\n",
    "            viterbi[k, i] = model[sentence[i]][key] + viterbi[k, i - 1]\n",
    "            \n",
    "        \n",
    "    return decoded"
   ]
  },
  {
   "cell_type": "code",
   "execution_count": 50,
   "metadata": {},
   "outputs": [
    {
     "name": "stdout",
     "output_type": "stream",
     "text": [
      "['<start>', 'I', '<mask>', 'p', '<mask>', '<mask>', 'm', '<mask>', 'n', 't', 'a', 't', 'i', 'o', '<mask>', '<s>', 'o', 'f', '<s>', 'G', 'e', 'o', 'r', 'g', 'i', 'a', \"'\", '<mask>', '<s>', 'a', 'u', '<mask>', 'o', 'm', 'o', 'b', 'i', 'l', 'e', '<s>', '<mask>', 'i', 't', 'l', 'e', '<mask>', 'l', 'a', 'w', '<s>', 'w', 'a', 's', '<mask>', 'a', 'l', '<mask>', '<mask>', '<s>', '<mask>', 'e', 'c', 'o', 'm', 'm', 'e', 'n', 'd', 'e', 'd', '<s>', 'b', '<mask>', '<s>', '<mask>', 'h', 'e', '<s>', 'o', 'u', 't', 'g', 'o', 'i', '<mask>', 'g', '<s>', 'j', '<mask>', 'r', 'y', '<mask>', '.', '<eos>']\n",
      "[-inf -inf -inf -inf -inf -inf -inf -inf -inf -inf -inf -inf -inf -inf\n",
      " -inf -inf -inf -inf -inf -inf -inf -inf -inf -inf -inf -inf -inf -inf\n",
      " -inf -inf -inf -inf -inf -inf -inf -inf -inf -inf -inf -inf -inf   0.\n",
      " -inf -inf -inf -inf -inf -inf -inf -inf -inf -inf -inf -inf -inf -inf\n",
      " -inf -inf -inf -inf -inf -inf -inf -inf -inf -inf -inf -inf -inf -inf\n",
      " -inf -inf -inf -inf -inf -inf -inf -inf -inf -inf -inf -inf -inf -inf\n",
      " -inf -inf]\n"
     ]
    },
    {
     "data": {
      "text/plain": [
       "[]"
      ]
     },
     "execution_count": 50,
     "metadata": {},
     "output_type": "execute_result"
    }
   ],
   "source": [
    "sentence = sentences[0]\n",
    "\n",
    "print(sentence)\n",
    "\n",
    "decode(sentence, model, vocab)"
   ]
  },
  {
   "cell_type": "code",
   "execution_count": null,
   "metadata": {},
   "outputs": [],
   "source": []
  }
 ],
 "metadata": {
  "kernelspec": {
   "display_name": "Python 3",
   "language": "python",
   "name": "python3"
  },
  "language_info": {
   "codemirror_mode": {
    "name": "ipython",
    "version": 3
   },
   "file_extension": ".py",
   "mimetype": "text/x-python",
   "name": "python",
   "nbconvert_exporter": "python",
   "pygments_lexer": "ipython3",
   "version": "3.8.5"
  }
 },
 "nbformat": 4,
 "nbformat_minor": 4
}
